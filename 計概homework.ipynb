{
  "nbformat": 4,
  "nbformat_minor": 0,
  "metadata": {
    "kernelspec": {
      "display_name": "Python 3",
      "language": "python",
      "name": "python3"
    },
    "language_info": {
      "codemirror_mode": {
        "name": "ipython",
        "version": 3
      },
      "file_extension": ".py",
      "mimetype": "text/x-python",
      "name": "python",
      "nbconvert_exporter": "python",
      "pygments_lexer": "ipython3",
      "version": "3.6.8"
    },
    "colab": {
      "name": "計概homework",
      "provenance": [],
      "include_colab_link": true
    }
  },
  "cells": [
    {
      "cell_type": "markdown",
      "metadata": {
        "id": "view-in-github",
        "colab_type": "text"
      },
      "source": [
        "<a href=\"https://colab.research.google.com/github/43838239/java1103/blob/master/%E8%A8%88%E6%A6%82homework.ipynb\" target=\"_parent\"><img src=\"https://colab.research.google.com/assets/colab-badge.svg\" alt=\"Open In Colab\"/></a>"
      ]
    },
    {
      "cell_type": "markdown",
      "metadata": {
        "id": "AQ7ULT_euHyD"
      },
      "source": [
        "# Python程式語言"
      ]
    },
    {
      "cell_type": "markdown",
      "metadata": {
        "id": "bgxUnMNyuHyG"
      },
      "source": [
        "Python變數在使用前一定記得先指定初值，如下所示："
      ]
    },
    {
      "cell_type": "code",
      "metadata": {
        "id": "FNs2CRSAuHyH",
        "colab": {
          "base_uri": "https://localhost:8080/"
        },
        "outputId": "c1d1188a-f54b-4474-e6eb-6d3b3108aed9"
      },
      "source": [
        "grade = 100\n",
        "height = 180\n",
        "weight = 65\n",
        "id = \"D1094182011\"\n",
        "name = \"葉品辰\"\n",
        "print(id+\" \"+name)\n",
        "print(\"D1094182011 葉品辰\")\n",
        "print(\"成績 = \" + str(grade))\n",
        "print(\"身高 = \" + str(height))\n",
        "print(\"體重 = \" + str(weight))"
      ],
      "execution_count": 2,
      "outputs": [
        {
          "output_type": "stream",
          "text": [
            "D1094182011 葉品辰\n",
            "D1094182011 葉品辰\n",
            "成績 = 100000000000000000\n",
            "身高 = 180\n",
            "體重 = 65\n"
          ],
          "name": "stdout"
        }
      ]
    },
    {
      "cell_type": "markdown",
      "metadata": {
        "id": "qJ5egiKtuHyL"
      },
      "source": [
        "Python變數可以指定成整數值，和執行相關運算如下所示："
      ]
    },
    {
      "cell_type": "code",
      "metadata": {
        "id": "VApTo13ruHyL",
        "colab": {
          "base_uri": "https://localhost:8080/"
        },
        "outputId": "328ea9b4-8adf-477e-af0d-87d80f3e29cc"
      },
      "source": [
        "x = 25\n",
        "print(type(x)) # 顯示 \"<class 'int'>\"\n",
        "print(x)       # 顯示 \"5\"\n",
        "print(x + 1)   # 加法: 顯示 \"6\"\n",
        "print(x - 1)   # 減法: 顯示 \"4\"\n",
        "print(x * 2)   # 乘法: 顯示 \"10\"\n",
        "print(x / 2)   # 除法: 顯示 \"2.5\"\n",
        "print(x // 2)  # 整數除法: 顯示 \"2\"\n",
        "print(x % 2)   # 餘數: 顯示 \"1\"\n",
        "print(x ** 2)  # 指數: 顯示 \"25\"\n",
        "x += 1\n",
        "print(x)  # 顯示 \"6\"\n",
        "x *= 2\n",
        "print(x)  # 顯示 \"12\""
      ],
      "execution_count": 3,
      "outputs": [
        {
          "output_type": "stream",
          "text": [
            "<class 'int'>\n",
            "25\n",
            "26\n",
            "24\n",
            "50\n",
            "12.5\n",
            "12\n",
            "1\n",
            "625\n",
            "26\n",
            "52\n"
          ],
          "name": "stdout"
        }
      ]
    },
    {
      "cell_type": "markdown",
      "metadata": {
        "id": "KCHmPvE1uHyN"
      },
      "source": [
        "Python變數可以指定成浮點數值，和執行相關運算，如下所示："
      ]
    },
    {
      "cell_type": "code",
      "metadata": {
        "id": "VoCsL-6kuHyO",
        "colab": {
          "base_uri": "https://localhost:8080/"
        },
        "outputId": "7da0f9a1-4111-4aa3-b7f7-21f41c23b17f"
      },
      "source": [
        "y = 2.5\n",
        "print(type(y)) # 顯示 \"<class 'float'>\"\n",
        "print(y, y + 1, y * 2, y ** 2) # 顯示 \"2.5 3.5 5.0 6.25\""
      ],
      "execution_count": 4,
      "outputs": [
        {
          "output_type": "stream",
          "text": [
            "<class 'float'>\n",
            "2.5 3.5 5.0 6.25\n"
          ],
          "name": "stdout"
        }
      ]
    },
    {
      "cell_type": "markdown",
      "metadata": {
        "id": "JSFPHKHBuHyQ"
      },
      "source": [
        "Python語言的布林（Boolean）資料型態可以使用True和False關鍵字來表示"
      ]
    },
    {
      "cell_type": "code",
      "metadata": {
        "id": "u-9Q_jHruHyQ"
      },
      "source": [
        "x = True\n",
        "y = False\n",
        "\n",
        "print(x)\n",
        "print(y)"
      ],
      "execution_count": null,
      "outputs": []
    },
    {
      "cell_type": "markdown",
      "metadata": {
        "id": "4t_wTNpBuHyT"
      },
      "source": [
        "當在Python程式建立字串後，我們就可以顯示字串、計算字串長度、連接2個字串告格式化顯示字串內容"
      ]
    },
    {
      "cell_type": "code",
      "metadata": {
        "id": "DAbcuEHtuHyT",
        "colab": {
          "base_uri": "https://localhost:8080/"
        },
        "outputId": "336b1a16-4268-4439-c5be-09785e47c612"
      },
      "source": [
        "str1 = 'hello'     # 使用單引號建立字串\n",
        "str2 = \"python\"    # 使用雙引號建立字串\n",
        "print(str1)        # 顯示 \"hello\"\n",
        "print(len(str1))   # 字串長度: 顯示 \"5\"\n",
        "str3 = str1 + ' ' + str2  # 字串連接\n",
        "print(str3)        # 顯示 \"hello python\"\n",
        "str4 = '%s %s %d' % (str1, str2, 12)  # 格式化字串\n",
        "print(str4)        # 顯示 \"hello python 12\""
      ],
      "execution_count": 5,
      "outputs": [
        {
          "output_type": "stream",
          "text": [
            "hello\n",
            "5\n",
            "hello python\n",
            "hello python 12\n"
          ],
          "name": "stdout"
        }
      ]
    },
    {
      "cell_type": "markdown",
      "metadata": {
        "id": "Bcsls7nCuHyV"
      },
      "source": [
        "Python字串物件提供一些好用的方法來處理字串，如下所示："
      ]
    },
    {
      "cell_type": "code",
      "metadata": {
        "id": "KlilSVx7uHyV"
      },
      "source": [
        "s = \"hello\"\n",
        "print(s.capitalize())  # 第1個字元大寫: 顯示 \"Hello\"\n",
        "print(s.upper())       # 轉成大寫: 顯示 \"HELLO\"\n",
        "print(s.rjust(7))      # 右邊填空白字元: 顯示 \"  hello\"\n",
        "print(s.center(7))     # 置中顯示: 顯示 \" hello \"\n",
        "print(s.replace('l', 'L'))  # 取代字串: 顯示 \"heLLo\"\n",
        "print('  python '.strip())  # 刪除空白字元: 顯示 \"python\""
      ],
      "execution_count": null,
      "outputs": []
    },
    {
      "cell_type": "markdown",
      "metadata": {
        "id": "YNZ6XgXHuHyZ"
      },
      "source": [
        "# 練習"
      ]
    },
    {
      "cell_type": "markdown",
      "metadata": {
        "id": "9aAdRNBwuHyZ"
      },
      "source": [
        "請設定兩個變數name, id, class為自己的姓名、學號與班級，並且進行輸出"
      ]
    },
    {
      "cell_type": "code",
      "metadata": {
        "id": "hHMP9UKauHya",
        "colab": {
          "base_uri": "https://localhost:8080/"
        },
        "outputId": "98d85673-0c49-448b-898e-a3e7e2c41921"
      },
      "source": [
        "id = \"D1094182011\"\n",
        "name= \"葉品辰\"\n",
        "Class= \"資網一B\"\n",
        "print(id+\" \"+name+\" \"+\" \"+Class)\n"
      ],
      "execution_count": 6,
      "outputs": [
        {
          "output_type": "stream",
          "text": [
            "D1094182011 葉品辰  資網一B\n"
          ],
          "name": "stdout"
        }
      ]
    },
    {
      "cell_type": "markdown",
      "metadata": {
        "id": "t2lDG4XCuHyc"
      },
      "source": [
        "將華氏溫度轉換為攝氏溫度"
      ]
    },
    {
      "cell_type": "code",
      "metadata": {
        "id": "dRA5BJatuHyc",
        "colab": {
          "base_uri": "https://localhost:8080/"
        },
        "outputId": "4057bbff-d908-4147-8f84-0f6a6e935437"
      },
      "source": [
        "f = float (input ( '請輸入華氏溫度: ' ))\n",
        "c = (f-32)*5/9\n",
        "print ( ' %.1f華氏度= %.1f攝氏度'  % (f, c))"
      ],
      "execution_count": 7,
      "outputs": [
        {
          "output_type": "stream",
          "text": [
            "請輸入華氏溫度: 26\n",
            " 26.0華氏度= -3.3攝氏度\n"
          ],
          "name": "stdout"
        }
      ]
    },
    {
      "cell_type": "markdown",
      "metadata": {
        "id": "pfkmoEqkuHye"
      },
      "source": [
        "輸入半徑計算圓的周長和面積"
      ]
    },
    {
      "cell_type": "code",
      "metadata": {
        "id": "n-sVnbCeuHye",
        "colab": {
          "base_uri": "https://localhost:8080/"
        },
        "outputId": "5bcb6786-4447-41b1-9c54-a20ad3be4be3"
      },
      "source": [
        "import math\n",
        "\n",
        "radius =  float ( input ( '請輸入圓的半徑: ' ))\n",
        "perimeter =  2  * math.pi * radius\n",
        "area = math.pi * radius * radius\n",
        "print ( '周長:  %.2f'  %perimeter)\n",
        "print ( '面積:  %.2f'  %area)"
      ],
      "execution_count": 10,
      "outputs": [
        {
          "output_type": "stream",
          "text": [
            "請輸入圓的半徑: 23\n",
            "周長:  144.51\n",
            "面積:  1661.90\n"
          ],
          "name": "stdout"
        }
      ]
    },
    {
      "cell_type": "markdown",
      "metadata": {
        "id": "h0ZJdf0yuHyg"
      },
      "source": [
        "# 條件控制 – if單選條件敘述\n",
        "判斷氣溫決定是否加件外套的if條件敘述，如下所示："
      ]
    },
    {
      "cell_type": "code",
      "metadata": {
        "id": "za1_d3G2uHyg",
        "colab": {
          "base_uri": "https://localhost:8080/"
        },
        "outputId": "f2555479-c5d6-4a60-b0a6-993c15b8c77b"
      },
      "source": [
        "t = int(input(\"請輸入氣溫 => \"))\n",
        "if t < 20:\n",
        "    print(\"加件外套!\")\n",
        "print(\"今天氣溫 = \" + str(t))"
      ],
      "execution_count": null,
      "outputs": [
        {
          "output_type": "stream",
          "text": [
            "請輸入氣溫 => 0\n",
            "加件外套!\n",
            "今天氣溫 = 0\n"
          ],
          "name": "stdout"
        }
      ]
    },
    {
      "cell_type": "code",
      "metadata": {
        "colab": {
          "base_uri": "https://localhost:8080/"
        },
        "id": "tcl_72KhTCZh",
        "outputId": "c9e9ea6b-9e20-4b2a-c527-b8ac5a0b8598"
      },
      "source": [
        "t = int(input(\"請輸入氣溫 => \"))\n",
        "if t > 26:\n",
        "    print(\"請開冷氣\")\n",
        "elif t < 20:\n",
        "    print(\"加件外套!\")\n",
        "\n",
        "print(\"今天氣溫 = \" + str(t))"
      ],
      "execution_count": 11,
      "outputs": [
        {
          "output_type": "stream",
          "text": [
            "請輸入氣溫 => 26\n",
            "今天氣溫 = 26\n"
          ],
          "name": "stdout"
        }
      ]
    },
    {
      "cell_type": "markdown",
      "metadata": {
        "id": "2JQBKIituHyi"
      },
      "source": [
        "學生成績以60分區分是否及格的if/else條件敘述"
      ]
    },
    {
      "cell_type": "code",
      "metadata": {
        "id": "doBNu5LjuHyi",
        "colab": {
          "base_uri": "https://localhost:8080/"
        },
        "outputId": "1b1adad3-4f56-4aab-fb84-b54eeacdd82c"
      },
      "source": [
        "s = int(input(\"請輸入成績 => \"))\n",
        "if s >= 60:\n",
        "    print(\"成績及格!\")\n",
        "else:\n",
        "    print(\"成績不及格!\")"
      ],
      "execution_count": null,
      "outputs": [
        {
          "output_type": "stream",
          "text": [
            "請輸入成績 => 62\n",
            "成績及格!\n"
          ],
          "name": "stdout"
        }
      ]
    },
    {
      "cell_type": "markdown",
      "metadata": {
        "id": "MzvL2koMuHyk"
      },
      "source": [
        "Python多選一條件敘述是if/else條件的擴充，在之中新增elif關鍵字來新增一個條件判斷，就可以建立多選一條件敘述，在輸入時，別忘了輸入在條件運算式和else之後的「:」冒號。"
      ]
    },
    {
      "cell_type": "markdown",
      "metadata": {
        "id": "cPIWaR-RuHyk"
      },
      "source": [
        "輸入年齡值來判斷不同範圍的年齡，小於13歲是兒童；小於20歲是青少年；大於等於20歲是成年人，因為條件不只一個，所以需要使用多選一條件敘述"
      ]
    },
    {
      "cell_type": "code",
      "metadata": {
        "id": "LfoRvz-_uHyk"
      },
      "source": [
        "a = int(input(\"請輸入年齡 => \"))\n",
        "if a < 13:\n",
        "    print(\"兒童\")\n",
        "elif a < 20:\n",
        "    print(\"青少年\")\n",
        "else:\n",
        "    print(\"成年人\")"
      ],
      "execution_count": null,
      "outputs": []
    },
    {
      "cell_type": "markdown",
      "metadata": {
        "id": "0U4JmGBquHym"
      },
      "source": [
        "Python語言並不支援「條件運算式」（Conditional Expressions），我們可以使用單行if/else條件敘述來代替，其語法如下所示：\n",
        "    變數 = 變數1 if 條件運算式 else 變數2"
      ]
    },
    {
      "cell_type": "markdown",
      "metadata": {
        "id": "1pSWLfWmuHyn"
      },
      "source": [
        "12/24制的時間轉換運算式如下所示："
      ]
    },
    {
      "cell_type": "code",
      "metadata": {
        "id": "9iUaEJoAuHyn"
      },
      "source": [
        "h = h-12 if h >= 12 else h"
      ],
      "execution_count": null,
      "outputs": []
    },
    {
      "cell_type": "markdown",
      "metadata": {
        "id": "n5JX32O6uHyp"
      },
      "source": [
        "# 練習"
      ]
    },
    {
      "cell_type": "markdown",
      "metadata": {
        "id": "zarAFVLLuHyp"
      },
      "source": [
        "成績轉換為等級"
      ]
    },
    {
      "cell_type": "code",
      "metadata": {
        "id": "QRb_8fMluHyq",
        "colab": {
          "base_uri": "https://localhost:8080/"
        },
        "outputId": "2045a682-c653-43fb-ac21-89879b9f8811"
      },
      "source": [
        "score = int(input ( '請輸入成績: ' ))\n",
        "if score >=  90:\n",
        "    grade =  ' A '\n",
        "elif score >=  80:\n",
        "    grade =  ' B '\n",
        "elif score >=  70:\n",
        "    grade =  ' C '\n",
        "elif score >=  60:\n",
        "    grade =  ' D '\n",
        "else: \n",
        "    grade =  ' E '\n",
        "print ( '對應的等級是: ' , grade)"
      ],
      "execution_count": null,
      "outputs": [
        {
          "output_type": "stream",
          "text": [
            "請輸入成績: 100\n",
            "對應的等級是:   A \n"
          ],
          "name": "stdout"
        }
      ]
    },
    {
      "cell_type": "markdown",
      "metadata": {
        "id": "32us74DmuHyr"
      },
      "source": [
        "# 迴圈控制 – for計數迴圈"
      ]
    },
    {
      "cell_type": "markdown",
      "metadata": {
        "id": "61U4uIrcuHys"
      },
      "source": [
        "在for迴圈的程式敘述中擁有計數器變數，計數器可以每次增加或減少一個值，直到迴圈結束條件成立為止。\n",
        "\n",
        "基本上，如果已經知道需重複執行幾次，就可以使用for計數迴圈來重複執行程式區塊。"
      ]
    },
    {
      "cell_type": "markdown",
      "metadata": {
        "id": "7gMeBBtguHys"
      },
      "source": [
        "在輸入最大值後，可以計算出1加至最大值的總和"
      ]
    },
    {
      "cell_type": "code",
      "metadata": {
        "id": "13gm_aVKuHys",
        "colab": {
          "base_uri": "https://localhost:8080/"
        },
        "outputId": "de239ebf-969a-4ded-cda6-ec69bf3d005a"
      },
      "source": [
        "m = int(input(\"請輸入最大值 =>\"))\n",
        "s = 1\n",
        "for i in range(1, m + 1):\n",
        "    s = s + i\n",
        "    print(str(s))\n",
        "print(\"總和 = \" + str(s))"
      ],
      "execution_count": null,
      "outputs": [
        {
          "output_type": "stream",
          "text": [
            "請輸入最大值 =>12\n",
            "2\n",
            "4\n",
            "7\n",
            "11\n",
            "16\n",
            "22\n",
            "29\n",
            "37\n",
            "46\n",
            "56\n",
            "67\n",
            "79\n",
            "總和 = 79\n"
          ],
          "name": "stdout"
        }
      ]
    },
    {
      "cell_type": "markdown",
      "metadata": {
        "id": "Q4zxGBzsuHyu"
      },
      "source": [
        "range(101)可以產生一個0到100的整數序列。\n",
        "\n",
        "range(1, 100)可以產生一個1到99的整數序列。\n",
        "\n",
        "range(1, 100, 2)可以產生一個1到99的奇數序列，其中2是步長，即數值序列的增量。"
      ]
    },
    {
      "cell_type": "code",
      "metadata": {
        "colab": {
          "base_uri": "https://localhost:8080/"
        },
        "id": "j4XtHV0mtbzi",
        "outputId": "c52a69ed-cb41-4b2d-d7b0-4eb039dd8428"
      },
      "source": [
        "print(end = '\\t')\n",
        "for i in  range ( 1 , 10 ):\n",
        "    print ( '%2d' % i, end = '\\t')\n",
        "print(' ')\n",
        "for i in range ( 1 , 10 ):\n",
        "     print ('%2d' % i, end = '\\t')\n",
        "     for j in  range ( 1 , 10 ):\n",
        "         print ( '%2d'  % (i * j), end = '\\t' )\n",
        "     print (' ')\n"
      ],
      "execution_count": null,
      "outputs": [
        {
          "output_type": "stream",
          "text": [
            "\t 1\t 2\t 3\t 4\t 5\t 6\t 7\t 8\t 9\t \n",
            " 1\t 1\t 2\t 3\t 4\t 5\t 6\t 7\t 8\t 9\t \n",
            " 2\t 2\t 4\t 6\t 8\t10\t12\t14\t16\t18\t \n",
            " 3\t 3\t 6\t 9\t12\t15\t18\t21\t24\t27\t \n",
            " 4\t 4\t 8\t12\t16\t20\t24\t28\t32\t36\t \n",
            " 5\t 5\t10\t15\t20\t25\t30\t35\t40\t45\t \n",
            " 6\t 6\t12\t18\t24\t30\t36\t42\t48\t54\t \n",
            " 7\t 7\t14\t21\t28\t35\t42\t49\t56\t63\t \n",
            " 8\t 8\t16\t24\t32\t40\t48\t56\t64\t72\t \n",
            " 9\t 9\t18\t27\t36\t45\t54\t63\t72\t81\t \n"
          ],
          "name": "stdout"
        }
      ]
    },
    {
      "cell_type": "code",
      "metadata": {
        "colab": {
          "base_uri": "https://localhost:8080/"
        },
        "id": "Xcs6zQ61zMIS",
        "outputId": "987dbc3e-68c0-4330-9331-b25041c587e4"
      },
      "source": [
        "for i in range ( 1 , 6 ):\n",
        "   for j in range (0 , 5-i+1):\n",
        "     print (' ' , end = '')\n",
        "   for j in range ( 1 , 2*i ):\n",
        "         print ('*' , end = '')\n",
        "   print('')"
      ],
      "execution_count": null,
      "outputs": [
        {
          "output_type": "stream",
          "text": [
            "     *\n",
            "    ***\n",
            "   *****\n",
            "  *******\n",
            " *********\n"
          ],
          "name": "stdout"
        }
      ]
    },
    {
      "cell_type": "code",
      "metadata": {
        "colab": {
          "base_uri": "https://localhost:8080/"
        },
        "id": "5_z3Nu_s8nGu",
        "outputId": "9cf0669f-7d3d-4d56-d524-36bc0c618803"
      },
      "source": [
        "for i in range ( 5 , 0 , -1 ):\n",
        "   for j in range (0 , 5-i+1):\n",
        "     print (' ' , end = '')\n",
        "   for j in range ( 1 , 2*i ):\n",
        "         print ('*' , end = '')\n",
        "   print('')"
      ],
      "execution_count": null,
      "outputs": [
        {
          "output_type": "stream",
          "text": [
            " *********\n",
            "  *******\n",
            "   *****\n",
            "    ***\n",
            "     *\n"
          ],
          "name": "stdout"
        }
      ]
    },
    {
      "cell_type": "code",
      "metadata": {
        "colab": {
          "base_uri": "https://localhost:8080/"
        },
        "id": "ySxoDKdy430P",
        "outputId": "bda4508e-7b24-45c1-f0ef-00c6bdd4d288"
      },
      "source": [
        "for i in range ( 1 , 6 ):\n",
        "   for j in range (0 , 5-i+1):\n",
        "     print (' ' , end = '')\n",
        "   for j in range ( 1 , i+1 ):\n",
        "         print ('*' , end = '')\n",
        "   print('')"
      ],
      "execution_count": null,
      "outputs": [
        {
          "output_type": "stream",
          "text": [
            "     *\n",
            "    **\n",
            "   ***\n",
            "  ****\n",
            " *****\n"
          ],
          "name": "stdout"
        }
      ]
    },
    {
      "cell_type": "code",
      "metadata": {
        "colab": {
          "base_uri": "https://localhost:8080/"
        },
        "id": "qFfc56FL5LvP",
        "outputId": "7df2b055-e619-43ad-ddd3-820c23f6e203"
      },
      "source": [
        "for i in range ( 1 , 6 ):\n",
        "   for j in range (1 , i+1):\n",
        "      print ('*',end = '' )\n",
        "   print(' ')"
      ],
      "execution_count": null,
      "outputs": [
        {
          "output_type": "stream",
          "text": [
            "* \n",
            "** \n",
            "*** \n",
            "**** \n",
            "***** \n"
          ],
          "name": "stdout"
        }
      ]
    },
    {
      "cell_type": "code",
      "metadata": {
        "colab": {
          "base_uri": "https://localhost:8080/"
        },
        "id": "S9AkpWEa81m2",
        "outputId": "e0977f4f-a410-4115-e4ea-05704128f18a"
      },
      "source": [
        "for i in range ( 5 , 0 , -1 ):\n",
        "   for j in range (1 , i+1):\n",
        "      print ('*',end = '' )\n",
        "   print(' ')"
      ],
      "execution_count": null,
      "outputs": [
        {
          "output_type": "stream",
          "text": [
            "***** \n",
            "**** \n",
            "*** \n",
            "** \n",
            "* \n"
          ],
          "name": "stdout"
        }
      ]
    },
    {
      "cell_type": "code",
      "metadata": {
        "colab": {
          "base_uri": "https://localhost:8080/"
        },
        "id": "h_oaNJ1J737W",
        "outputId": "387e7ad3-242d-4104-fa65-ca1477055555"
      },
      "source": [
        "for i in range ( 5 , 0 , -1 ):\n",
        "   for j in range (0 , 5-i+1):\n",
        "     print (' ' , end = '')\n",
        "   for j in range ( 1 , i+1 ):\n",
        "         print ('*' , end = '')\n",
        "   print('')"
      ],
      "execution_count": null,
      "outputs": [
        {
          "output_type": "stream",
          "text": [
            " *****\n",
            "  ****\n",
            "   ***\n",
            "    **\n",
            "     *\n"
          ],
          "name": "stdout"
        }
      ]
    },
    {
      "cell_type": "markdown",
      "metadata": {
        "id": "7oo0ydRquHyu"
      },
      "source": [
        "# while條件迴圈"
      ]
    },
    {
      "cell_type": "markdown",
      "metadata": {
        "id": "SStIDfxauHyv"
      },
      "source": [
        "while迴圈敘述需要在程式區塊自行處理計數器變數的增減，迴圈是在程式區塊開頭檢查條件，條件成立才允許進入迴圈執行。"
      ]
    },
    {
      "cell_type": "markdown",
      "metadata": {
        "id": "gBrKgR89uHyv"
      },
      "source": [
        "使用while迴圈來計算階層函數值"
      ]
    },
    {
      "cell_type": "code",
      "metadata": {
        "id": "wrqOfgfwuHyv"
      },
      "source": [
        "m = int(input(\"請輸入階層數 =>\"))\n",
        "r = 1\n",
        "n = 1\n",
        "while n <= m:\n",
        "    r = r * n\n",
        "    n = n + 1\n",
        "print(\"階層值! = \" + str(r))"
      ],
      "execution_count": null,
      "outputs": []
    },
    {
      "cell_type": "markdown",
      "metadata": {
        "id": "Z7FxhLIluHyx"
      },
      "source": [
        "# 練習"
      ]
    },
    {
      "cell_type": "markdown",
      "metadata": {
        "id": "yx2QAsrouHyx"
      },
      "source": [
        "猜數字遊戲"
      ]
    },
    {
      "cell_type": "code",
      "metadata": {
        "id": "yGrgAArHuHyy",
        "colab": {
          "base_uri": "https://localhost:8080/"
        },
        "outputId": "03f6d32f-52ea-4728-dd69-8238c79cfa2d"
      },
      "source": [
        "import random\n",
        "\n",
        "answer = random.randint( 1 , 100 )\n",
        "counter =  0 \n",
        "while  True:\n",
        "    counter +=  1 \n",
        "    number =  int ( input ( '請輸入: ' ))\n",
        "    if number < answer:\n",
        "         print ( '大一點' )\n",
        "    elif number > answer:\n",
        "         print ( '小一點' )\n",
        "    else: \n",
        "         print ( '恭喜你猜對了! ' )\n",
        "         break\n",
        "print ( '你總共猜了%d次'  %counter)\n",
        "if counter >  7:\n",
        "    print ( '你的智商餘額明顯不足' )"
      ],
      "execution_count": null,
      "outputs": [
        {
          "output_type": "stream",
          "text": [
            "請輸入: 50\n",
            "小一點\n",
            "請輸入: 25\n",
            "大一點\n",
            "請輸入: 35\n",
            "小一點\n",
            "請輸入: 27\n",
            "大一點\n",
            "請輸入: 29\n",
            "大一點\n",
            "請輸入: 30\n",
            "恭喜你猜對了! \n",
            "你總共猜了6次\n"
          ],
          "name": "stdout"
        }
      ]
    },
    {
      "cell_type": "markdown",
      "metadata": {
        "id": "wzhYa3HQuHyz"
      },
      "source": [
        "輸入一個正整數判斷它是不是質數"
      ]
    },
    {
      "cell_type": "code",
      "metadata": {
        "id": "mzXEr64huHy0",
        "colab": {
          "base_uri": "https://localhost:8080/",
          "height": 131
        },
        "outputId": "773d9c4f-4c80-4502-c567-1f14d8d51213"
      },
      "source": [
        "from math import sqrt\n",
        "\n",
        "num =  int ( input ( '請輸入一個正整數: ' ))\n",
        "end =  int (sqrt(num))\n",
        "is_prime =  True \n",
        "for x range ( 2 , end)\n",
        "     if num % x =  0 :\n",
        "        is_prime =  False \n",
        "        break \n",
        "if is_prime and num !=  1 :\n",
        "     print ( ' %d是質數'  % num)\n",
        "else :\n",
        "     print ( ' %d不是質數'  % num)\n"
      ],
      "execution_count": null,
      "outputs": [
        {
          "output_type": "error",
          "ename": "SyntaxError",
          "evalue": "ignored",
          "traceback": [
            "\u001b[0;36m  File \u001b[0;32m\"<ipython-input-8-58f09dc55968>\"\u001b[0;36m, line \u001b[0;32m6\u001b[0m\n\u001b[0;31m    for x range ( 2 , end)\u001b[0m\n\u001b[0m              ^\u001b[0m\n\u001b[0;31mSyntaxError\u001b[0m\u001b[0;31m:\u001b[0m invalid syntax\n"
          ]
        }
      ]
    },
    {
      "cell_type": "markdown",
      "metadata": {
        "id": "2mUxMvjeuHy1"
      },
      "source": [
        "# 函數 – 定義函數"
      ]
    },
    {
      "cell_type": "markdown",
      "metadata": {
        "id": "0_YFjn_RuHy2"
      },
      "source": [
        "在Python程式建立沒有參數列和傳回值的print_msg()函數，如下所示："
      ]
    },
    {
      "cell_type": "code",
      "metadata": {
        "id": "FGaqyVVyuHy2"
      },
      "source": [
        "def print_msg(str):\n",
        "    print(\"歡迎學習\"+str+\"程式設計!\" )"
      ],
      "execution_count": null,
      "outputs": []
    },
    {
      "cell_type": "code",
      "metadata": {
        "colab": {
          "base_uri": "https://localhost:8080/"
        },
        "id": "1T3QCZZHYg9N",
        "outputId": "70daaff0-b022-4981-a6d4-2ef2e55b7f7b"
      },
      "source": [
        "print_msg(\"c++\")"
      ],
      "execution_count": null,
      "outputs": [
        {
          "output_type": "stream",
          "text": [
            "歡迎學習c++程式設計!\n"
          ],
          "name": "stdout"
        }
      ]
    },
    {
      "cell_type": "markdown",
      "metadata": {
        "id": "6fGd0ZuUuHy5"
      },
      "source": [
        "上述函數名稱是print_msg，在名稱後的括號定義傳入的參數列，如果函數沒有參數，就是空括號，在空括號後不要忘了輸入「:」冒號。"
      ]
    },
    {
      "cell_type": "markdown",
      "metadata": {
        "id": "vDjkahh9uHy5"
      },
      "source": [
        "Python函數如果有傳回值，我們需要使用return關鍵字來傳回值。\n",
        "\n",
        "例如：判斷參數值是否在指定範圍的is_valid_num()函數，如下所示："
      ]
    },
    {
      "cell_type": "code",
      "metadata": {
        "id": "oryRJxqhuHy6"
      },
      "source": [
        "def is_valid_num(no):\n",
        "    if no >= 0 and no <= 200.0:\n",
        "        return True\n",
        "    else:\n",
        "        return False"
      ],
      "execution_count": 12,
      "outputs": []
    },
    {
      "cell_type": "code",
      "metadata": {
        "colab": {
          "base_uri": "https://localhost:8080/"
        },
        "id": "ySSl2VzPYV3-",
        "outputId": "b56a28d5-785b-4528-ba42-b6a67b17a89f"
      },
      "source": [
        " print(is_valid_num(250))"
      ],
      "execution_count": null,
      "outputs": [
        {
          "output_type": "stream",
          "text": [
            "False\n"
          ],
          "name": "stdout"
        }
      ]
    },
    {
      "cell_type": "markdown",
      "metadata": {
        "id": "8bycYG-1uHy8"
      },
      "source": [
        "再來是一個執行運算的convert_to_f()函數，如下所示："
      ]
    },
    {
      "cell_type": "code",
      "metadata": {
        "id": "nKc8qCnDuHy8"
      },
      "source": [
        "def convert_to_f(c):\n",
        "    f = (9.0 * c) / 5.0 + 32.0\n",
        "    return f"
      ],
      "execution_count": null,
      "outputs": []
    },
    {
      "cell_type": "markdown",
      "metadata": {
        "id": "sCOU_1iSuHy-"
      },
      "source": [
        "# 函數 – 函數呼叫"
      ]
    },
    {
      "cell_type": "markdown",
      "metadata": {
        "id": "9S6lgA8muHy-"
      },
      "source": [
        "Python程式碼呼叫函數是使用函數名稱加上括號中的引數列。因為print_msg()函數沒有傳回值和參數列，呼叫函數只需使用函數名稱加上空括號，如下所示："
      ]
    },
    {
      "cell_type": "code",
      "metadata": {
        "id": "_4ROcfDwuHy-"
      },
      "source": [
        "print_msg()"
      ],
      "execution_count": null,
      "outputs": []
    },
    {
      "cell_type": "markdown",
      "metadata": {
        "id": "zlfHyRKUuHzA"
      },
      "source": [
        "函數如果擁有傳回值，在呼叫時可以使用指定敘述來取得傳回值，如下所示："
      ]
    },
    {
      "cell_type": "code",
      "metadata": {
        "id": "vLRD8wDauHzA"
      },
      "source": [
        "f = convert_to_f(c)"
      ],
      "execution_count": null,
      "outputs": []
    },
    {
      "cell_type": "markdown",
      "metadata": {
        "id": "1IVNEVzUuHzC"
      },
      "source": [
        "如果函數傳回值為True或False，例如：is_valid_num()函數，我們可以在if條件敘述呼叫函數作為判斷條件，如下所示："
      ]
    },
    {
      "cell_type": "code",
      "metadata": {
        "id": "lvQ3TehFuHzC"
      },
      "source": [
        "if is_valid_num(c):\n",
        "    print(\"合法!\")\n",
        "else:\n",
        "    print(\"不合法\")"
      ],
      "execution_count": null,
      "outputs": []
    },
    {
      "cell_type": "markdown",
      "metadata": {
        "id": "LhjP1LiJuHzE"
      },
      "source": [
        "# 練習"
      ]
    },
    {
      "cell_type": "markdown",
      "metadata": {
        "id": "8Psd95XxuHzF"
      },
      "source": [
        "實作判斷一個數是不是質數的函數"
      ]
    },
    {
      "cell_type": "code",
      "metadata": {
        "id": "1Ka8-jKpuHzF"
      },
      "source": [
        "from math import sqrt\n",
        "\n",
        "def  is_prime ( num ):\n",
        "    for factor in  range ( 2 , num):\n",
        "         if num % factor ==  0 :\n",
        "             return  False \n",
        "    if num == 1:\n",
        "        return False\n",
        "    else:\n",
        "        return True"
      ],
      "execution_count": null,
      "outputs": []
    },
    {
      "cell_type": "code",
      "metadata": {
        "colab": {
          "base_uri": "https://localhost:8080/"
        },
        "id": "T0GGsqcVaGrm",
        "outputId": "fdc731c4-ed12-41d2-ed17-f01aa13e87ba"
      },
      "source": [
        "print (is_prime(2))"
      ],
      "execution_count": null,
      "outputs": [
        {
          "output_type": "stream",
          "text": [
            "True\n"
          ],
          "name": "stdout"
        }
      ]
    },
    {
      "cell_type": "markdown",
      "metadata": {
        "id": "O3Ye1-gguHzG"
      },
      "source": [
        "# 清單"
      ]
    },
    {
      "cell_type": "markdown",
      "metadata": {
        "id": "PdsC6WeDuHzH"
      },
      "source": [
        "Python語言的「清單」（Lists）類似其他程式語言「陣列」（Arrays），中文譯名有清單、串列和列表等。\n",
        "\n",
        "不同於字串型態的不能更改，清單允許更改（Mutable）內容，我們可以新增、刪除、插入和更改清單的項目（Items）。"
      ]
    },
    {
      "cell_type": "markdown",
      "metadata": {
        "id": "pJg4VF_JuHzH"
      },
      "source": [
        "Python清單（Lists）是使用「[]」方括號括起的多個項目，每一個項目使用「,」逗號分隔，如下所示："
      ]
    },
    {
      "cell_type": "code",
      "metadata": {
        "id": "bcNboZ56uHzH",
        "colab": {
          "base_uri": "https://localhost:8080/"
        },
        "outputId": "5c69a201-cd64-489d-acd2-7cf2e2076a2d"
      },
      "source": [
        "ls = [6, 4, 5]    # 建立清單\n",
        "print(ls, ls[2])  # 顯示 \"[6, 4, 5] 5\"\n",
        "print(ls[-1])     # 負索引從最後開始: 顯示 \"5\"\n",
        "ls[2] = \"py\"      # 指定字串型態的項目\n",
        "print(ls)         # 顯示 \"[6, 4, 'py']\"\n",
        "ls.append(\"bar\")  # 新增項目\n",
        "print(ls)         # 顯示 \"[6, 4, 'py', 'bar']\"\n",
        "ele = ls.pop()    # 取出最後項目\n",
        "print(ele, ls)    # 顯示 \"bar [6, 4, 'py']\""
      ],
      "execution_count": null,
      "outputs": [
        {
          "output_type": "stream",
          "text": [
            "[6, 4, 5] 5\n",
            "5\n",
            "[6, 4, 'py']\n",
            "[6, 4, 'py', 'bar']\n",
            "bar [6, 4, 'py']\n"
          ],
          "name": "stdout"
        }
      ]
    },
    {
      "cell_type": "markdown",
      "metadata": {
        "id": "NQhY17duuHzJ"
      },
      "source": [
        "Python清單可以在「[]」方括號中使用「:」符號的語法，即指定開始和結束來分割清單成為子清單，如下所示："
      ]
    },
    {
      "cell_type": "code",
      "metadata": {
        "id": "eBMoeZ_yuHzJ",
        "colab": {
          "base_uri": "https://localhost:8080/"
        },
        "outputId": "381df72b-5c43-404b-cca7-dfcfe25c891c"
      },
      "source": [
        "nums = list(range(5))  # 建立一序列的整數清單\n",
        "print(nums)            # 顯示 \"[0, 1, 2, 3, 4]\"\n",
        "print(nums[2:4])       # 切割索引2~4(不含4): 顯示 \"[2, 3]\"\n",
        "print(nums[2:])        # 切割索引從2至最後: 顯示 \"[2, 3, 4]\"\n",
        "print(nums[:2])        # 切割從開始至索引2(不含2): 顯示 \"[0, 1]\"\n",
        "print(nums[:])         # 切割整個清單: 顯示 \"[0, 1, 2, 3, 4]\"\n",
        "print(nums[:-1])       # 使用負索引切割: 顯示 \"[0, 1, 2, 3]\"\n",
        "nums[2:4] = [7, 8]     # 使用切割來指定子清單\n",
        "print(nums)            # 顯示 \"[0, 1, 7, 8, 4]\""
      ],
      "execution_count": null,
      "outputs": [
        {
          "output_type": "stream",
          "text": [
            "[0, 1, 2, 3, 4]\n",
            "[2, 3]\n",
            "[2, 3, 4]\n",
            "[0, 1]\n",
            "[0, 1, 2, 3, 4]\n",
            "[0, 1, 2, 3]\n",
            "[0, 1, 7, 8, 4]\n"
          ],
          "name": "stdout"
        }
      ]
    },
    {
      "cell_type": "markdown",
      "metadata": {
        "id": "ZCQVV0U8uHzL"
      },
      "source": [
        "# 清單 – 走訪清單"
      ]
    },
    {
      "cell_type": "markdown",
      "metadata": {
        "id": "XSErAZP6uHzL"
      },
      "source": [
        "Python程式是使用for迴圈走訪顯示清單的每一個項目，如下所示："
      ]
    },
    {
      "cell_type": "code",
      "metadata": {
        "id": "Qahd8wc_uHzM"
      },
      "source": [
        "animals = ['cat', 'dog', 'bat']\n",
        "for animal in animals:\n",
        "    print(animal)"
      ],
      "execution_count": null,
      "outputs": []
    },
    {
      "cell_type": "markdown",
      "metadata": {
        "id": "TOZfH3rmuHzO"
      },
      "source": [
        "上述for迴圈可以一一取出清單每一個項目和顯示出來，如果需要顯示清單各項目的索引值，我們需要使用enumerate()函數，如下所示："
      ]
    },
    {
      "cell_type": "code",
      "metadata": {
        "id": "Qebph-5KuHzO"
      },
      "source": [
        "for index, animal in enumerate(animals):\n",
        "    print(index, animal)"
      ],
      "execution_count": null,
      "outputs": []
    }
  ]
}